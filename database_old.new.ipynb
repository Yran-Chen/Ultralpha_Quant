{
 "cells": [
  {
   "cell_type": "code",
   "execution_count": 18,
   "metadata": {},
   "outputs": [],
   "source": [
    "from strategy_pool import StrategyPool\n",
    "import pandas as pd\n",
    "import time\n",
    "from params_gen import *\n",
    "from dateutil.parser import parse\n",
    "from idiosyncratic_backtest import IdiosyncraticBacktest"
   ]
  },
  {
   "cell_type": "code",
   "execution_count": 2,
   "metadata": {},
   "outputs": [],
   "source": [
    "basic_all_time = {\n",
    "    'basic':param_basic_alltime,\n",
    "}"
   ]
  },
  {
   "cell_type": "code",
   "execution_count": 3,
   "metadata": {},
   "outputs": [
    {
     "name": "stdout",
     "output_type": "stream",
     "text": [
      "Future Database init...\n",
      "Time used: 16.923557\n"
     ]
    }
   ],
   "source": [
    "ss = StrategyPool(basic_all_time)\n",
    "ss.run()"
   ]
  },
  {
   "cell_type": "code",
   "execution_count": 21,
   "metadata": {},
   "outputs": [],
   "source": [
    "df_old = ss.data_proxy.get_daily_df()\n",
    "df_old['code'] = [i.upper() for i in df_old['code']]\n",
    "df_old = IdiosyncraticBacktest.dateindex_2multiindex(df_old)"
   ]
  },
  {
   "cell_type": "code",
   "execution_count": 22,
   "metadata": {},
   "outputs": [
    {
     "name": "stdout",
     "output_type": "stream",
     "text": [
      "                      open     high    close      low       opi    volume  \\\n",
      "date       code                                                             \n",
      "2005-01-04 A0501    2890.0   2890.0   2868.0   2850.0   82760.0    7968.0   \n",
      "           A0503    2622.0   2639.0   2639.0   2622.0    4426.0     524.0   \n",
      "           A0505    2585.0   2588.0   2571.0   2564.0  334512.0  177076.0   \n",
      "           A0507    2582.0   2584.0   2572.0   2561.0    4012.0     536.0   \n",
      "           A0509    2601.0   2613.0   2595.0   2590.0    3948.0     658.0   \n",
      "...                    ...      ...      ...      ...       ...       ...   \n",
      "2019-09-30 ZN2005  18665.0  18730.0  18600.0  18590.0    1448.0     512.0   \n",
      "           ZN2006  18660.0  18660.0  18660.0  18660.0     230.0       2.0   \n",
      "           ZN2007  18660.0  18660.0  18660.0  18660.0     168.0       2.0   \n",
      "           ZN2008  18625.0  18625.0  18625.0  18625.0      66.0       4.0   \n",
      "           ZN2009  18630.0  18635.0  18585.0  18585.0      36.0       8.0   \n",
      "\n",
      "                         amount instrument  \n",
      "date       code                             \n",
      "2005-01-04 A0501   2.284707e+08          a  \n",
      "           A0503   1.379300e+07          a  \n",
      "           A0505   4.558250e+09          a  \n",
      "           A0507   1.379330e+07          a  \n",
      "           A0509   1.712560e+07          a  \n",
      "...                         ...        ...  \n",
      "2019-09-30 ZN2005  0.000000e+00         zn  \n",
      "           ZN2006  0.000000e+00         zn  \n",
      "           ZN2007  0.000000e+00         zn  \n",
      "           ZN2008  0.000000e+00         zn  \n",
      "           ZN2009  0.000000e+00         zn  \n",
      "\n",
      "[712188 rows x 8 columns]\n"
     ]
    }
   ],
   "source": [
    "print(df_old)"
   ]
  },
  {
   "cell_type": "code",
   "execution_count": 15,
   "metadata": {},
   "outputs": [],
   "source": [
    "df_new = pd.read_csv('..\\\\save\\\\future_day.csv')\n",
    "df_new['date'] = [parse(i) for i in df_new['date']]\n",
    "df_new = df_new.set_index(['date','code']).sort_index()"
   ]
  },
  {
   "cell_type": "code",
   "execution_count": 23,
   "metadata": {},
   "outputs": [],
   "source": [
    "def len_intersection(df1,df2):\n",
    "    return (set(df1.index) -set(df2.index))"
   ]
  },
  {
   "cell_type": "code",
   "execution_count": 24,
   "metadata": {},
   "outputs": [],
   "source": [
    "old_new = len_intersection(df_old,df_new)\n",
    "new_old = len_intersection(df_new,df_old)"
   ]
  },
  {
   "cell_type": "code",
   "execution_count": null,
   "metadata": {},
   "outputs": [],
   "source": [
    "print(old_new)"
   ]
  },
  {
   "cell_type": "code",
   "execution_count": null,
   "metadata": {},
   "outputs": [],
   "source": [
    "print(new_old)"
   ]
  },
  {
   "cell_type": "code",
   "execution_count": null,
   "metadata": {},
   "outputs": [],
   "source": []
  }
 ],
 "metadata": {
  "kernelspec": {
   "display_name": "Python 3",
   "language": "python",
   "name": "python3"
  },
  "language_info": {
   "codemirror_mode": {
    "name": "ipython",
    "version": 3
   },
   "file_extension": ".py",
   "mimetype": "text/x-python",
   "name": "python",
   "nbconvert_exporter": "python",
   "pygments_lexer": "ipython3",
   "version": "3.7.3"
  }
 },
 "nbformat": 4,
 "nbformat_minor": 2
}
