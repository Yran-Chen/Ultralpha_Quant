{
 "cells": [
  {
   "cell_type": "code",
   "execution_count": 2,
   "metadata": {},
   "outputs": [],
   "source": [
    "from strategy_pool import StrategyPool\n",
    "import pandas as pd\n",
    "import time\n",
    "from params_gen import *\n",
    "from dateutil.parser import parse\n",
    "from idiosyncratic_backtest import IdiosyncraticBacktest"
   ]
  },
  {
   "cell_type": "code",
   "execution_count": 3,
   "metadata": {},
   "outputs": [],
   "source": [
    "basic_all_time = {\n",
    "    'basic':param_basic_alltime,\n",
    "}"
   ]
  },
  {
   "cell_type": "code",
   "execution_count": 22,
   "metadata": {},
   "outputs": [
    {
     "name": "stdout",
     "output_type": "stream",
     "text": [
      "Future Database init...\n",
      "Time used: 17.410550800001147\n"
     ]
    }
   ],
   "source": [
    "ss = StrategyPool(basic_all_time)\n",
    "ss.run()"
   ]
  },
  {
   "cell_type": "code",
   "execution_count": 5,
   "metadata": {},
   "outputs": [],
   "source": [
    "df_old = ss.data_proxy.get_daily_df()\n",
    "df_old['code'] = [i.upper() for i in df_old['code']]\n",
    "df_old = IdiosyncraticBacktest.dateindex_2multiindex(df_old)"
   ]
  },
  {
   "cell_type": "code",
   "execution_count": 6,
   "metadata": {
    "scrolled": true
   },
   "outputs": [
    {
     "name": "stdout",
     "output_type": "stream",
     "text": [
      "                      open     high    close      low       opi    volume  \\\n",
      "date       code                                                             \n",
      "2005-01-04 A0501    2890.0   2890.0   2868.0   2850.0   82760.0    7968.0   \n",
      "           A0503    2622.0   2639.0   2639.0   2622.0    4426.0     524.0   \n",
      "           A0505    2585.0   2588.0   2571.0   2564.0  334512.0  177076.0   \n",
      "           A0507    2582.0   2584.0   2572.0   2561.0    4012.0     536.0   \n",
      "           A0509    2601.0   2613.0   2595.0   2590.0    3948.0     658.0   \n",
      "...                    ...      ...      ...      ...       ...       ...   \n",
      "2019-09-30 ZN2005  18665.0  18730.0  18600.0  18590.0    1448.0     512.0   \n",
      "           ZN2006  18660.0  18660.0  18660.0  18660.0     230.0       2.0   \n",
      "           ZN2007  18660.0  18660.0  18660.0  18660.0     168.0       2.0   \n",
      "           ZN2008  18625.0  18625.0  18625.0  18625.0      66.0       4.0   \n",
      "           ZN2009  18630.0  18635.0  18585.0  18585.0      36.0       8.0   \n",
      "\n",
      "                         amount instrument  \n",
      "date       code                             \n",
      "2005-01-04 A0501   2.284707e+08          a  \n",
      "           A0503   1.379300e+07          a  \n",
      "           A0505   4.558250e+09          a  \n",
      "           A0507   1.379330e+07          a  \n",
      "           A0509   1.712560e+07          a  \n",
      "...                         ...        ...  \n",
      "2019-09-30 ZN2005  0.000000e+00         zn  \n",
      "           ZN2006  0.000000e+00         zn  \n",
      "           ZN2007  0.000000e+00         zn  \n",
      "           ZN2008  0.000000e+00         zn  \n",
      "           ZN2009  0.000000e+00         zn  \n",
      "\n",
      "[712188 rows x 8 columns]\n"
     ]
    }
   ],
   "source": [
    "print(df_old)"
   ]
  },
  {
   "cell_type": "code",
   "execution_count": 7,
   "metadata": {},
   "outputs": [],
   "source": [
    "df_new = pd.read_csv('..\\\\save\\\\future_day.csv')\n",
    "df_new['date'] = [parse(i) for i in df_new['date']]\n",
    "df_new = df_new.set_index(['date','code']).sort_index()"
   ]
  },
  {
   "cell_type": "code",
   "execution_count": 8,
   "metadata": {},
   "outputs": [],
   "source": [
    "def len_intersection(df1,df2):\n",
    "    return (set(df1.index) -set(df2.index))"
   ]
  },
  {
   "cell_type": "code",
   "execution_count": 16,
   "metadata": {},
   "outputs": [
    {
     "name": "stdout",
     "output_type": "stream",
     "text": [
      "                   sett_price  positions       open      close      high  \\\n",
      "date       code                                                            \n",
      "2005-01-04 A0501     2867.000    82760.0   2890.000   2868.000   2890.00   \n",
      "           A0503     2632.000     4426.0   2622.000   2639.000   2639.00   \n",
      "           A0505     2574.000   334512.0   2585.000   2571.000   2588.00   \n",
      "           A0507     2573.000     4012.0   2582.000   2572.000   2584.00   \n",
      "           A0509     2602.000     3948.0   2601.000   2595.000   2613.00   \n",
      "...                       ...        ...        ...        ...       ...   \n",
      "2019-09-30 ZN2007   18660.000      168.0  18660.000  18660.000  18660.00   \n",
      "           ZN2008   18625.000       66.0  18625.000  18625.000  18625.00   \n",
      "           ZN2009   18620.000       36.0  18630.000  18585.000  18635.00   \n",
      "           ZN8888   18715.034   363440.0  18710.327  18681.944  18801.17   \n",
      "           ZN9999   18730.000   172444.0  18720.000  18695.000  18820.00   \n",
      "\n",
      "                         low    volume         money  \n",
      "date       code                                       \n",
      "2005-01-04 A0501    2850.000    7968.0  2.284707e+08  \n",
      "           A0503    2622.000     524.0  1.379300e+07  \n",
      "           A0505    2564.000  177076.0  4.558250e+09  \n",
      "           A0507    2561.000     536.0  1.379330e+07  \n",
      "           A0509    2590.000     658.0  1.712560e+07  \n",
      "...                      ...       ...           ...  \n",
      "2019-09-30 ZN2007  18660.000       2.0  1.866000e+05  \n",
      "           ZN2008  18625.000       4.0  3.725000e+05  \n",
      "           ZN2009  18585.000       8.0  7.448000e+05  \n",
      "           ZN8888  18633.418  302826.0  2.834806e+10  \n",
      "           ZN9999  18650.000  196208.0  1.837700e+10  \n",
      "\n",
      "[1341311 rows x 8 columns]\n"
     ]
    }
   ],
   "source": [
    "pointer = 'date<=\"{}\" '.format('2019-09-30')\n",
    "df_new = df_new.query(pointer).dropna()\n",
    "print(df_new)\n",
    "return df_mew/index/date\n",
    "print (pointer.predict(x.date,y.date))"
   ]
  },
  {
   "cell_type": "code",
   "execution_count": 17,
   "metadata": {},
   "outputs": [],
   "source": [
    "old_new = len_intersection(df_old,df_new)\n",
    "new_old = len_intersection(df_new,df_old)"
   ]
  },
  {
   "cell_type": "code",
   "execution_count": 1,
   "metadata": {},
   "outputs": [
    {
     "ename": "NameError",
     "evalue": "name 'old_new' is not defined",
     "traceback": [
      "\u001b[1;31m---------------------------------------------------------------------------\u001b[0m",
      "\u001b[1;31mNameError\u001b[0m                                 Traceback (most recent call last)",
      "\u001b[1;32m<ipython-input-1-d796f70556ee>\u001b[0m in \u001b[0;36m<module>\u001b[1;34m\u001b[0m\n\u001b[1;32m----> 1\u001b[1;33m \u001b[0mprint\u001b[0m\u001b[1;33m(\u001b[0m\u001b[0mlen\u001b[0m\u001b[1;33m(\u001b[0m\u001b[0mold_new\u001b[0m\u001b[1;33m)\u001b[0m\u001b[1;33m)\u001b[0m\u001b[1;33m\u001b[0m\u001b[1;33m\u001b[0m\u001b[0m\n\u001b[0m",
      "\u001b[1;31mNameError\u001b[0m: name 'old_new' is not defined"
     ],
     "output_type": "error"
    }
   ],
   "source": [
    "print(len(old_new))"
   ]
  },
  {
   "cell_type": "code",
   "execution_count": 21,
   "metadata": {},
   "outputs": [
    {
     "name": "stdout",
     "output_type": "stream",
     "text": [
      "805848\n"
     ]
    }
   ],
   "source": [
    "print(len(new_old))"
   ]
  }
 ],
 "metadata": {
  "kernelspec": {
   "display_name": "Python 3",
   "language": "python",
   "name": "python3"
  },
  "language_info": {
   "codemirror_mode": {
    "name": "ipython",
    "version": 3
   },
   "file_extension": ".py",
   "mimetype": "text/x-python",
   "name": "python",
   "nbconvert_exporter": "python",
   "pygments_lexer": "ipython3",
   "version": "3.7.3"
  }
 },
 "nbformat": 4,
 "nbformat_minor": 2
}
