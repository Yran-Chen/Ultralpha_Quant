{
 "cells": [
  {
   "cell_type": "code",
   "execution_count": 1,
   "metadata": {},
   "outputs": [],
   "source": [
    "from dataview import DataView\n",
    "import pandas as pd"
   ]
  },
  {
   "cell_type": "code",
   "execution_count": 2,
   "metadata": {},
   "outputs": [],
   "source": [
    "op_df = pd.read_csv('alpha_data\\\\op_param_df.csv')"
   ]
  },
  {
   "cell_type": "code",
   "execution_count": 3,
   "metadata": {},
   "outputs": [],
   "source": [
    "dv = DataView()"
   ]
  },
  {
   "cell_type": "code",
   "execution_count": 4,
   "metadata": {},
   "outputs": [],
   "source": [
    "po = dv.param_generator(op_df)"
   ]
  },
  {
   "cell_type": "code",
   "execution_count": 5,
   "metadata": {},
   "outputs": [
    {
     "name": "stdout",
     "output_type": "stream",
     "text": [
      "{'fut_pool_gen_param': 0    NaN\n",
      "Name: fut_pool_gen_param, dtype: object, 'op_id': 0    op_0\n",
      "Name: op_id, dtype: object, 'is_main_contract_op': 0    False\n",
      "Name: is_main_contract_op, dtype: object, 'n_nearest_index_op': 0    1\n",
      "Name: n_nearest_index_op, dtype: object, 'fut_pool_gen_method': 0    static\n",
      "Name: fut_pool_gen_method, dtype: object, 'if_check_vol': 0    True\n",
      "Name: if_check_vol, dtype: object, 'weighted': 0    False\n",
      "Name: weighted, dtype: object, 'top': 0    0.1\n",
      "Name: top, dtype: object, 'bottom': 0    0.1\n",
      "Name: bottom, dtype: object, 'future_pool': 0    a,b,c,l,v,j,jm,m,p,y,fu,ru,al,au,cu,pb,rb,wr,z...\n",
      "Name: future_pool, dtype: object}\n"
     ]
    }
   ],
   "source": [
    "print(po[0])"
   ]
  },
  {
   "cell_type": "code",
   "execution_count": null,
   "metadata": {},
   "outputs": [],
   "source": []
  }
 ],
 "metadata": {
  "kernelspec": {
   "display_name": "Python 3",
   "language": "python",
   "name": "python3"
  },
  "language_info": {
   "codemirror_mode": {
    "name": "ipython",
    "version": 3
   },
   "file_extension": ".py",
   "mimetype": "text/x-python",
   "name": "python",
   "nbconvert_exporter": "python",
   "pygments_lexer": "ipython3",
   "version": "3.6.4"
  }
 },
 "nbformat": 4,
 "nbformat_minor": 2
}
